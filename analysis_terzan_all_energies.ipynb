{
 "cells": [
  {
   "cell_type": "code",
   "execution_count": 1,
   "id": "acb1b962-dfec-4b5c-b8a3-881c4b476eb0",
   "metadata": {},
   "outputs": [],
   "source": [
    "import os\n",
    "import numpy as np\n",
    "import matplotlib.pyplot as plt\n",
    "import matplotlib\n",
    "from fermipy.gtanalysis import GTAnalysis\n",
    "from fermipy.plotting import ROIPlotter, SEDPlotter\n",
    "from IPython.display import Image"
   ]
  },
  {
   "cell_type": "code",
   "execution_count": 30,
   "id": "31e362d5-f510-476a-a5d4-741779d88b48",
   "metadata": {},
   "outputs": [
    {
     "name": "stderr",
     "output_type": "stream",
     "text": [
      "2025-07-27 18:32:41 INFO    GTAnalysis.__init__(): \n",
      "--------------------------------------------------------------------------------\n",
      "fermipy version 1.4.0 \n",
      "ScienceTools version 2.2.0\n"
     ]
    }
   ],
   "source": [
    "gta = GTAnalysis('config.yaml')"
   ]
  },
  {
   "cell_type": "code",
   "execution_count": 31,
   "id": "39650796-f4a7-4b20-9389-bb22f7ee6aa0",
   "metadata": {},
   "outputs": [
    {
     "name": "stderr",
     "output_type": "stream",
     "text": [
      "2025-07-27 18:32:45 INFO    GTAnalysis.setup(): Running setup.\n",
      "2025-07-27 18:32:45 INFO    GTBinnedAnalysis.setup(): Running setup for component 00\n",
      "2025-07-27 18:32:45 INFO    GTBinnedAnalysis._select_data(): Skipping data selection.\n",
      "2025-07-27 18:32:45 INFO    GTBinnedAnalysis._create_ltcube(): Skipping LT Cube.\n",
      "2025-07-27 18:32:46 INFO    GTBinnedAnalysis._create_expcube(): Skipping gtexpcube.\n",
      "WARNING: FITSFixedWarning: RADECSYS= 'FK5 ' \n",
      "the RADECSYS keyword is deprecated, use RADESYSa. [astropy.wcs.wcs]\n",
      "WARNING: FITSFixedWarning: 'datfix' made the change 'Set DATEREF to '2001-01-01T00:01:04.184' from MJDREF.\n",
      "Set MJD-OBS to 54682.655283 from DATE-OBS.\n",
      "Set MJD-END to 60879.458662 from DATE-END'. [astropy.wcs.wcs]\n",
      "2025-07-27 18:32:46 INFO    GTBinnedAnalysis._create_srcmaps(): Skipping gtsrcmaps.\n",
      "2025-07-27 18:32:46 INFO    GTBinnedAnalysis.setup(): Finished setup for component 00\n",
      "2025-07-27 18:32:46 INFO    GTBinnedAnalysis._create_binned_analysis(): Creating BinnedAnalysis for component 00.\n",
      "2025-07-27 18:33:01 INFO    GTAnalysis.setup(): Initializing source properties\n",
      "2025-07-27 18:33:02 INFO    GTAnalysis.setup(): Finished setup.\n"
     ]
    }
   ],
   "source": [
    "gta.setup()"
   ]
  },
  {
   "cell_type": "code",
   "execution_count": 32,
   "id": "fd9f2e6d-a8cd-4e54-bb34-f797df8cde58",
   "metadata": {},
   "outputs": [
    {
     "name": "stderr",
     "output_type": "stream",
     "text": [
      "2025-07-27 18:33:18 INFO    GTAnalysis.print_roi(): \n",
      "name                SpatialModel   SpectrumType     offset        ts       npred\n",
      "--------------------------------------------------------------------------------\n",
      "4FGL J1748.0-2446   PointSource    LogParabola       0.000       nan     23322.0\n",
      "4FGL J1745.7-2506   PointSource    LogParabola       0.617       nan      2518.0\n",
      "4FGL J1746.1-2541   PointSource    PowerLaw          1.010       nan      5008.6\n",
      "4FGL J1743.4-2406   PointSource    PowerLaw          1.242       nan      5072.6\n",
      "4FGL J1749.0-2327   PointSource    LogParabola       1.333       nan      5084.8\n",
      "4FGL J1753.8-2538   PointSource    LogParabola       1.567       nan     19443.0\n",
      "4FGL J1744.5-2612   PointSource    PowerLaw          1.641       nan      4110.9\n",
      "4FGL J1741.8-2537   PointSource    PowerLaw          1.648       nan      4635.0\n",
      "4FGL J1741.5-2344   PointSource    LogParabola       1.804       nan      1687.6\n",
      "4FGL J1739.3-2531   PointSource    LogParabola       2.114       nan      3679.4\n",
      "4FGL J1756.6-2352   PointSource    PowerLaw          2.153       nan      5301.7\n",
      "4FGL J1738.1-2453   PointSource    LogParabola       2.250       nan      3449.4\n",
      "4FGL J1742.8-2246   PointSource    LogParabola       2.324       nan      3437.1\n",
      "4FGL J1757.7-2337   PointSource    PowerLaw          2.487       nan      4982.4\n",
      "4FGL J1737.2-2421   PointSource    PowerLaw          2.498       nan      1183.7\n",
      "4FGL J1758.6-2404   PointSource    PowerLaw          2.509       nan     10111.9\n",
      "4FGL J1740.7-2640   PointSource    LogParabola       2.521       nan      1341.4\n",
      "4FGL J1737.6-2350   PointSource    PowerLaw          2.539       nan      2129.8\n",
      "4FGL J1759.1-2347c  PointSource    PowerLaw          2.700       nan      2820.2\n",
      "4FGL J1758.8-2326   PointSource    LogParabola       2.794       nan      3649.3\n",
      "4FGL J1759.7-2354   PointSource    LogParabola       2.805       nan      3836.5\n",
      "4FGL J1800.2-2403c  PointSource    PowerLaw          2.859       nan      1417.0\n",
      "4FGL J1744.9-2153   PointSource    PowerLaw          2.968       nan      1397.8\n",
      "4FGL J1801.2-2450   PointSource    PLSuperExpCuto    2.997       nan      3859.6\n",
      "4FGL J1800.9-2407   PointSource    LogParabola       2.997       nan      2856.2\n",
      "4FGL J1800.7-2355   PointSource    PowerLaw          3.003       nan      2483.2\n",
      "4FGL J1747.7-2141   PointSource    PowerLaw          3.083       nan      1619.9\n",
      "4FGL J1741.6-2730   PointSource    LogParabola       3.095       nan      1692.2\n",
      "4FGL J1739.2-2717   PointSource    LogParabola       3.206       nan      2013.6\n",
      "4FGL J1801.8-2358   PointSource    PowerLaw          3.227       nan      3411.3\n",
      "4FGL J1733.6-2431   PointSource    LogParabola       3.278       nan       417.5\n",
      "4FGL J1801.3-2326e  RadialDisk     LogParabola       3.311       nan     21132.4\n",
      "4FGL J1801.6-2326   PointSource    LogParabola       3.384       nan      9949.1\n",
      "4FGL J1801.1-2626   PointSource    LogParabola       3.391       nan        43.8\n",
      "4FGL J1757.6-2731   PointSource    LogParabola       3.489       nan       346.5\n",
      "4FGL J1732.7-2559   PointSource    LogParabola       3.664       nan       484.1\n",
      "4FGL J1802.1-2652   PointSource    LogParabola       3.805       nan       262.6\n",
      "4FGL J1742.5-2833   PointSource    PowerLaw          3.984       nan      1767.5\n",
      "4FGL J1733.9-2220   PointSource    LogParabola       4.046       nan       510.9\n",
      "4FGL J1759.7-2141   PointSource    LogParabola       4.077       nan       776.3\n",
      "4FGL J1746.4-2852   PointSource    LogParabola       4.113       nan       844.5\n",
      "4FGL J1741.9-2054   PointSource    PLSuperExpCuto    4.119       nan      4374.1\n",
      "4FGL J1729.9-2403   PointSource    LogParabola       4.178       nan       270.7\n",
      "4FGL J1753.2-2848   PointSource    LogParabola       4.194       nan        44.4\n",
      "4FGL J1732.0-2659   PointSource    PowerLaw          4.241       nan       421.5\n",
      "4FGL J1739.7-2836   PointSource    LogParabola       4.259       nan        23.8\n",
      "4FGL J1745.6-2859   PointSource    LogParabola       4.260       nan     10574.4\n",
      "4FGL J1806.9-2455c  PointSource    LogParabola       4.283       nan        68.2\n",
      "4FGL J1803.1-2724   PointSource    LogParabola       4.290       nan       281.2\n",
      "4FGL J1730.8-2303   PointSource    PLSuperExpCuto    4.300       nan       205.3\n",
      "4FGL J1748.3-2906   PointSource    LogParabola       4.335       nan       184.7\n",
      "4FGL J1801.0-2802   PointSource    LogParabola       4.372       nan       120.6\n",
      "4FGL J1740.4-2850   PointSource    LogParabola       4.413       nan       100.9\n",
      "4FGL J1748.9-2021   PointSource    LogParabola       4.420       nan       455.7\n",
      "4FGL J1731.9-2719   PointSource    PowerLaw          4.437       nan       351.8\n",
      "4FGL J1746.5-2019   PointSource    PowerLaw          4.459       nan       619.8\n",
      "4FGL J1757.1-2848c  PointSource    PowerLaw          4.514       nan       416.4\n",
      "4FGL J1803.1-2148   PointSource    PLSuperExpCuto    4.553       nan      2124.3\n",
      "4FGL J1752.3-2914   PointSource    PowerLaw          4.576       nan       913.6\n",
      "4FGL J1734.5-2818   PointSource    LogParabola       4.642       nan       232.5\n",
      "4FGL J1804.7-2144e  RadialDisk     PowerLaw          4.890       nan      1707.7\n",
      "4FGL J1727.6-2304   PointSource    PowerLaw          4.970       nan       304.7\n",
      "4FGL J1754.6-2933   PointSource    LogParabola       4.999       nan        93.4\n",
      "4FGL J1748.2-1942   PointSource    PowerLaw          5.065       nan       259.7\n",
      "4FGL J1739.5-2929   PointSource    LogParabola       5.084       nan        51.3\n",
      "4FGL J1809.8-2332   PointSource    PLSuperExpCuto    5.116       nan      6670.5\n",
      "4FGL J1805.6-2136e  RadialDisk     PowerLaw          5.124       nan      1662.1\n",
      "4FGL J1747.2-2957   PointSource    PLSuperExpCuto    5.196       nan      3423.1\n",
      "4FGL J1800.5-2910   PointSource    PowerLaw          5.200       nan       217.4\n",
      "4FGL J1726.8-2659   PointSource    PowerLaw          5.268       nan       210.1\n",
      "4FGL J1811.3-2403   PointSource    PowerLaw          5.342       nan       738.8\n",
      "4FGL J1806.2-2126   PointSource    LogParabola       5.351       nan       578.8\n",
      "4FGL J1736.3-2929   PointSource    PowerLaw          5.386       nan       499.3\n",
      "4FGL J1809.2-2726   PointSource    PowerLaw          5.449       nan       302.2\n",
      "4FGL J1811.9-2336   PointSource    LogParabola       5.570       nan        70.4\n",
      "4FGL J1733.2-2915   PointSource    PowerLaw          5.572       nan       489.2\n",
      "4FGL J1758.0-2953   PointSource    LogParabola       5.575       nan         3.0\n",
      "4FGL J1806.9-2824   PointSource    PowerLaw          5.579       nan       132.3\n",
      "4FGL J1740.1-1928   PointSource    PowerLaw          5.604       nan       274.8\n",
      "4FGL J1729.4-2831   PointSource    LogParabola       5.610       nan        72.0\n",
      "4FGL J1803.8-2908   PointSource    LogParabola       5.610       nan        63.1\n",
      "4FGL J1750.4-3023   PointSource    LogParabola       5.652       nan        20.9\n",
      "4FGL J1750.6-1906   PointSource    PowerLaw          5.693       nan       276.4\n",
      "4FGL J1734.0-2933   PointSource    LogParabola       5.706       nan        26.5\n",
      "4FGL J1745.8-3028e  RadialDisk     PowerLaw          5.725       nan      2406.2\n",
      "4FGL J1800.2-2952   PointSource    LogParabola       5.768       nan        12.9\n",
      "4FGL J1811.0-2725   PointSource    PowerLaw          5.800       nan       108.6\n",
      "4FGL J1739.4-3015   PointSource    PLSuperExpCuto    5.808       nan       218.4\n",
      "4FGL J1758.3-1920   PointSource    LogParabola       5.930       nan       138.8\n",
      "4FGL J1730.3-2913   PointSource    LogParabola       5.960       nan         1.2\n",
      "4FGL J1752.7-3040   PointSource    LogParabola       5.994       nan        14.2\n",
      "4FGL J1814.6-2537   PointSource    LogParabola       6.081       nan        26.8\n",
      "4FGL J1811.2-2759   PointSource    PowerLaw          6.105       nan        54.1\n",
      "4FGL J1758.3-3028   PointSource    PowerLaw          6.138       nan       219.6\n",
      "4FGL J1743.1-3049c  PointSource    PowerLaw          6.159       nan       412.0\n",
      "4FGL J1741.4-3046c  PointSource    LogParabola       6.186       nan       179.8\n",
      "4FGL J1809.0-2853   PointSource    LogParabola       6.234       nan         9.9\n",
      "4FGL J1735.7-3026   PointSource    LogParabola       6.287       nan         2.7\n",
      "4FGL J1726.0-2843   PointSource    PowerLaw          6.299       nan        25.9\n",
      "4FGL J1808.2-2028e  RadialDisk     LogParabola       6.322       nan       300.9\n",
      "4FGL J1750.8-3106   PointSource    LogParabola       6.369       nan         1.9\n",
      "4FGL J1731.6-3002   PointSource    LogParabola       6.406       nan        59.8\n",
      "4FGL J1743.9-1824   PointSource    LogParabola       6.431       nan        12.3\n",
      "4FGL J1740.3-3058c  PointSource    LogParabola       6.431       nan       235.6\n",
      "4FGL J1804.9-3001   PointSource    LogParabola       6.453       nan        47.1\n",
      "4FGL J1726.2-2903   PointSource    LogParabola       6.484       nan        12.3\n",
      "4FGL J1815.2-2715   PointSource    PowerLaw          6.591       nan        95.8\n",
      "4FGL J1743.4-3123   PointSource    PowerLaw          6.695       nan       128.0\n",
      "4FGL J1741.5-3119   PointSource    LogParabola       6.716       nan         2.2\n",
      "4FGL J1802.4-3041   PointSource    LogParabola       6.727       nan         4.4\n",
      "4FGL J1808.8-1949c  PointSource    PowerLaw          6.890       nan       332.8\n",
      "4FGL J1816.4-2727   PointSource    LogParabola       6.905       nan        40.8\n",
      "4FGL J1752.3-3139   PointSource    PowerLaw          6.944       nan        60.0\n",
      "4FGL J1757.4-3125   PointSource    LogParabola       6.958       nan        48.3\n",
      "4FGL J1749.6-3143c  PointSource    LogParabola       6.962       nan         1.1\n",
      "4FGL J1723.1-2859   PointSource    PowerLaw          6.973       nan       134.2\n",
      "4FGL J1751.6-1750   PointSource    PowerLaw          6.983       nan        69.3\n",
      "4FGL J1745.6-3145   PointSource    LogParabola       7.006       nan        19.3\n",
      "4FGL J1743.8-3143   PointSource    PowerLaw          7.016       nan       148.9\n",
      "4FGL J1731.7-1850   PointSource    LogParabola       7.048       nan        16.0\n",
      "4FGL J1744.9-1727   PointSource    PowerLaw          7.357       nan        53.9\n",
      "4FGL J1754.8-3200   PointSource    LogParabola       7.379       nan         0.4\n",
      "4FGL J1739.6-3155   PointSource    PowerLaw          7.385       nan       201.2\n",
      "4FGL J1810.3-1925e  RadialDisk     LogParabola       7.426       nan       195.8\n",
      "4FGL J1750.4-1721   PointSource    LogParabola       7.431       nan        25.3\n",
      "4FGL J1724.5-3008   PointSource    LogParabola       7.484       nan         8.7\n",
      "4FGL J1725.1-1924   PointSource    PowerLaw          7.541       nan        77.4\n",
      "4FGL J1732.5-3131   PointSource    PLSuperExpCuto    7.559       nan       238.9\n",
      "4FGL J1727.6-3050   PointSource    LogParabola       7.567       nan         4.9\n",
      "4FGL J1816.3-2903   PointSource    LogParabola       7.612       nan         3.8\n",
      "4FGL J1811.5-1925   PointSource    PowerLaw          7.621       nan        41.3\n",
      "4FGL J1716.7-2808   PointSource    LogParabola       7.786       nan        11.2\n",
      "4FGL J1719.4-2916   PointSource    LogParabola       7.801       nan        14.5\n",
      "4FGL J1814.2-3000   PointSource    LogParabola       7.827       nan         1.6\n",
      "4FGL J1810.2-3054   PointSource    LogParabola       7.845       nan         2.4\n",
      "4FGL J1804.9-1745   PointSource    PowerLaw          8.039       nan       128.0\n",
      "4FGL J1803.7-3207   PointSource    LogParabola       8.114       nan         7.9\n",
      "4FGL J1811.5-1844   PointSource    LogParabola       8.126       nan        99.1\n",
      "4FGL J1720.8-1937   PointSource    PowerLaw          8.131       nan        29.5\n",
      "4FGL J1818.1-2000   PointSource    LogParabola       8.416       nan         5.6\n",
      "4FGL J1819.9-2926   PointSource    LogParabola       8.489       nan         7.8\n",
      "4FGL J1817.2-3035   PointSource    PowerLaw          8.682       nan        32.1\n",
      "4FGL J1722.6-3135   PointSource    LogParabola       8.818       nan         0.2\n",
      "4FGL J1812.8-3144   PointSource    LogParabola       8.853       nan         2.0\n",
      "4FGL J1714.2-2928   PointSource    PowerLaw          8.868       nan        29.7\n",
      "4FGL J1718.0-3055   PointSource    PowerLaw          9.042       nan        28.4\n",
      "4FGL J1813.1-1737e  RadialDisk     LogParabola       9.234       nan       290.6\n",
      "4FGL J1722.1-3205   PointSource    PowerLaw          9.275       nan        57.5\n",
      "4FGL J1814.1-1710   PointSource    PowerLaw          9.723       nan        89.4\n",
      "4FGL J1817.1-1742   PointSource    PLSuperExpCuto    9.790       nan        40.8\n",
      "isodiff             ConstantValue  FileFunction      -----       nan     24526.4\n",
      "galdiff             MapCubeFunctio PowerLaw          -----       nan   1373278.9\n",
      "\n"
     ]
    }
   ],
   "source": [
    "gta.print_roi()"
   ]
  },
  {
   "cell_type": "code",
   "execution_count": 33,
   "id": "5d9a8921-2415-4fb9-9573-c2ce5791ec27",
   "metadata": {},
   "outputs": [
    {
     "name": "stderr",
     "output_type": "stream",
     "text": [
      "2025-07-27 18:33:22 INFO    GTAnalysis.optimize(): Starting\n"
     ]
    },
    {
     "name": "stdout",
     "output_type": "stream",
     "text": [
      "Joint fit  ['galdiff', 'isodiff', '4FGL J1748.0-2446', '4FGL J1801.3-2326e', '4FGL J1753.8-2538']\n",
      "Fitting shape galdiff TS: 448947.562\n",
      "Fitting shape 4FGL J1748.0-2446 TS:   6212.202\n",
      "Fitting shape 4FGL J1753.8-2538 TS:   1898.753\n",
      "Fitting shape isodiff TS:    753.476\n",
      "Fitting shape 4FGL J1801.3-2326e TS:    440.608\n",
      "Fitting shape 4FGL J1758.6-2404 TS:    337.908\n",
      "Fitting shape 4FGL J1741.8-2537 TS:    228.930\n",
      "Fitting shape 4FGL J1801.6-2326 TS:    201.961\n",
      "Fitting shape 4FGL J1739.3-2531 TS:    191.968\n",
      "Fitting shape 4FGL J1745.6-2859 TS:    183.924\n",
      "Fitting shape 4FGL J1742.8-2246 TS:    182.820\n",
      "Fitting shape 4FGL J1738.1-2453 TS:    182.486\n",
      "Fitting shape 4FGL J1740.7-2640 TS:    154.651\n",
      "Fitting shape 4FGL J1749.0-2327 TS:    141.090\n",
      "Fitting shape 4FGL J1758.8-2326 TS:    139.063\n",
      "Fitting shape 4FGL J1757.7-2337 TS:    133.168\n",
      "Fitting shape 4FGL J1756.6-2352 TS:     84.441\n",
      "Fitting shape 4FGL J1744.5-2612 TS:     84.308\n",
      "Fitting shape 4FGL J1745.7-2506 TS:     83.307\n",
      "Fitting shape 4FGL J1741.9-2054 TS:     82.514\n",
      "Fitting shape 4FGL J1741.5-2344 TS:     71.981\n",
      "Fitting shape 4FGL J1747.2-2957 TS:     68.593\n",
      "Fitting shape 4FGL J1801.2-2450 TS:     60.844\n",
      "Fitting shape 4FGL J1746.1-2541 TS:     54.054\n",
      "Fitting shape 4FGL J1809.8-2332 TS:     52.285\n",
      "Fitting shape 4FGL J1743.4-2406 TS:     51.608\n",
      "Fitting shape 4FGL J1759.7-2354 TS:     51.287\n",
      "Fitting shape 4FGL J1737.2-2421 TS:     44.428\n",
      "Fitting shape 4FGL J1737.6-2350 TS:     39.347\n",
      "Fitting shape 4FGL J1759.1-2347c TS:     31.078\n",
      "Fitting shape 4FGL J1800.9-2407 TS:     29.347\n",
      "Fitting shape 4FGL J1745.8-3028e TS:     27.826\n",
      "Fitting shape 4FGL J1747.7-2141 TS:     25.015\n"
     ]
    },
    {
     "name": "stderr",
     "output_type": "stream",
     "text": [
      "2025-07-27 19:08:33 INFO    GTAnalysis.optimize(): Finished\n",
      "2025-07-27 19:08:33 INFO    GTAnalysis.optimize(): LogLike: 4871390.330347 Delta-LogLike: 482.975433\n",
      "2025-07-27 19:08:33 INFO    GTAnalysis.optimize(): Execution time: 2110.88 s\n"
     ]
    },
    {
     "data": {
      "text/plain": [
       "{'loglike0': 4870907.354913833,\n",
       " 'loglike1': 4871390.330347012,\n",
       " 'dloglike': 482.97543317917734,\n",
       " 'config': {'npred_threshold': 1.0,\n",
       "  'npred_frac': 0.95,\n",
       "  'shape_ts_threshold': 25.0,\n",
       "  'max_free_sources': 5,\n",
       "  'skip': [],\n",
       "  'optimizer': {'optimizer': 'MINUIT',\n",
       "   'tol': 0.001,\n",
       "   'max_iter': 100,\n",
       "   'init_lambda': 0.0001,\n",
       "   'retries': 3,\n",
       "   'min_fit_quality': 2,\n",
       "   'verbosity': 0}}}"
      ]
     },
     "execution_count": 33,
     "metadata": {},
     "output_type": "execute_result"
    }
   ],
   "source": [
    "gta.optimize()"
   ]
  },
  {
   "cell_type": "code",
   "execution_count": 34,
   "id": "7c86470f-f2af-4202-9509-6251a8ab40e7",
   "metadata": {},
   "outputs": [
    {
     "name": "stderr",
     "output_type": "stream",
     "text": [
      "2025-07-27 19:29:14 INFO    GTAnalysis.print_model(): \n",
      "sourcename            offset    norm  eflux     index        ts       npred free\n",
      "--------------------------------------------------------------------------------\n",
      "4FGL J1748.0-2446      0.000   0.647  4.84e-05   2.58   6673.52     24007.9     \n",
      "4FGL J1745.7-2506      0.617   0.727  4.97e-06   3.13     96.11      2805.5     \n",
      "4FGL J1746.1-2541      1.010   1.197  5.85e-06   2.60     44.03      4043.6     \n",
      "4FGL J1743.4-2406      1.242   0.237  5.29e-06   2.63     54.45      3600.8     \n",
      "4FGL J1749.0-2327      1.333   2.222  8.28e-06   3.62    138.60      5996.5     \n",
      "4FGL J1753.8-2538      1.567   2.523  3.95e-05   2.40   2062.88     17494.4     \n",
      "4FGL J1744.5-2612      1.641   0.968  6.42e-06   2.20     77.04      2596.3     \n",
      "4FGL J1741.8-2537      1.648   0.686  1.06e-05   2.24    241.65      4683.0     \n",
      "4FGL J1741.5-2344      1.804   1.147   2.6e-06   4.77     66.52      1360.5     \n",
      "4FGL J1739.3-2531      2.114   0.837   6.2e-06   3.05    197.33      2751.5     \n",
      "4FGL J1756.6-2352      2.153   0.829  1.01e-05   2.38     82.15      4690.0     \n",
      "4FGL J1738.1-2453      2.250   2.530  5.54e-06   5.40    184.64      2543.0     \n",
      "4FGL J1742.8-2246      2.324   1.344  6.05e-06   3.08    170.78      3030.8     \n",
      "4FGL J1757.7-2337      2.487   0.608  1.25e-05   2.30    111.71      4567.2     \n",
      "4FGL J1737.2-2421      2.498   0.493  4.56e-06   2.20     46.35      1195.8     \n",
      "4FGL J1758.6-2404      2.509   1.975  2.62e-05   2.38    316.33      9408.1     \n",
      "4FGL J1740.7-2640      2.521   0.407  5.54e-06   2.68    160.43      2043.5     \n",
      "4FGL J1737.6-2350      2.539   1.628  4.21e-06   2.38     41.64      1554.9     \n",
      "4FGL J1759.1-2347c     2.700   1.783  1.03e-05   2.31     24.87      2935.8     \n",
      "4FGL J1758.8-2326      2.794   2.101  1.09e-05   2.52     94.95      3028.6     \n",
      "4FGL J1759.7-2354      2.805   0.619  5.55e-05   1.78     51.55      3511.4     \n",
      "4FGL J1800.2-2403c     2.859   0.619  8.73e-06   2.11      2.56      1218.5     \n",
      "4FGL J1744.9-2153      2.968   2.663  5.39e-06   2.47      6.93      1335.5     \n",
      "4FGL J1801.2-2450      2.997   4.629  4.38e-05   2.67     76.00      6923.7     \n",
      "4FGL J1800.9-2407      2.997   0.468  2.19e-05   4.32     38.21      4207.2     \n",
      "4FGL J1800.7-2355      3.003   0.193  1.03e-05   2.18      3.70      1507.4     \n",
      "4FGL J1747.7-2141      3.083   1.359  1.58e-05   2.47     34.91      3345.7     \n",
      "4FGL J1741.6-2730      3.095   0.345  2.69e-06   3.46      2.00       620.1     \n",
      "4FGL J1739.2-2717      3.206   0.199  3.27e-06   2.91     10.79       856.9     \n",
      "4FGL J1801.8-2358      3.227   0.256  5.96e-06   2.26      1.13       839.2     \n",
      "4FGL J1733.6-2431      3.278   1.216  5.74e-06   3.26      1.71       603.0     \n",
      "4FGL J1801.3-2326e     3.311   2.702  0.000398   1.85    591.69     17406.0     \n",
      "4FGL J1801.6-2326      3.384   0.728  6.21e-05   4.78    231.23     10638.5     \n",
      "4FGL J1801.1-2626      3.391   0.000  2.92e-11   1.75     -0.00         0.0     \n",
      "4FGL J1757.6-2731      3.489   0.134  1.04e-06   2.80      0.15       109.2     \n",
      "4FGL J1732.7-2559      3.664   1.007  7.54e-06   3.03      1.93       797.7     \n",
      "4FGL J1802.1-2652      3.805   0.474  4.08e-06   3.15      0.37       283.0     \n",
      "4FGL J1742.5-2833      3.984   1.387  1.44e-05   2.57      7.77      1843.2     \n",
      "4FGL J1733.9-2220      4.046   0.467  7.39e-07   4.71      0.04        81.9     \n",
      "4FGL J1759.7-2141      4.077   1.502  2.15e-05   2.52      6.09      1430.2     \n",
      "4FGL J1746.4-2852      4.113   0.000  3.01e-10   2.62     -0.00         0.0     \n",
      "4FGL J1741.9-2054      4.119   0.123  0.000188   2.57    100.15      4799.3     \n",
      "4FGL J1729.9-2403      4.178   3.102  7.25e-06   3.91      0.39       342.9     \n",
      "4FGL J1753.2-2848      4.194   0.001  1.05e-08   3.17     -0.00         0.2     \n",
      "4FGL J1732.0-2659      4.241   0.162  8.86e-07   2.34      0.01        73.4     \n",
      "4FGL J1739.7-2836      4.259  14.161  2.01e-05   2.40      0.18       129.5     \n",
      "4FGL J1745.6-2859      4.260   0.550  0.000122   2.93    194.76     10559.1     \n",
      "4FGL J1806.9-2455c     4.283  11.356  5.73e-05   3.45      1.82      1123.7     \n",
      "4FGL J1803.1-2724      4.290   7.857  1.33e-05   2.83      1.61       787.6     \n",
      "4FGL J1730.8-2303      4.300   0.143  3.56e-07   5.14      0.00        19.3     \n",
      "4FGL J1748.3-2906      4.335   0.000  1.19e-10   2.65     -0.00         0.0     \n",
      "4FGL J1801.0-2802      4.372   0.001  2.34e-09   3.37     -0.00         0.1     \n",
      "4FGL J1740.4-2850      4.413   0.000  3.47e-10   2.38     -0.00         0.0     \n",
      "4FGL J1748.9-2021      4.420   2.663  2.82e-05   2.83      3.53      1257.0     \n",
      "4FGL J1731.9-2719      4.437   0.498  5.69e-06   2.24      0.34       337.1     \n",
      "4FGL J1746.5-2019      4.459   0.000  2.67e-11   2.55     -0.00         0.0     \n",
      "4FGL J1757.1-2848c     4.514   2.671  1.01e-05   2.49      1.53       839.0     \n",
      "4FGL J1803.1-2148      4.553   0.849  6.91e-05   2.71     16.17      2810.8     \n",
      "4FGL J1752.3-2914      4.576   4.757  2.58e-05   2.64     11.30      2316.9     \n",
      "4FGL J1734.5-2818      4.642   8.455  2.32e-05   3.66      2.41       823.0     \n",
      "4FGL J1804.7-2144e     4.890   0.275  5.97e-05   1.98      2.42      1092.1     \n",
      "4FGL J1727.6-2304      4.970   0.000  2.33e-10   2.34     -0.00         0.0     \n",
      "4FGL J1754.6-2933      4.999   0.001  2.97e-09   3.21     -0.00         0.0     \n",
      "4FGL J1748.2-1942      5.065   1.767  9.45e-06   2.40      0.53       437.6     \n",
      "4FGL J1739.5-2929      5.084   0.000  7.74e-10   3.73     -0.00         0.0     \n",
      "4FGL J1809.8-2332      5.116   1.934  0.000528   2.56     58.67      7029.0     \n",
      "4FGL J1805.6-2136e     5.124   1.755  4.32e-05   2.21      4.53      1435.2     \n",
      "4FGL J1747.2-2957      5.196   0.763  0.000231   3.43     75.88      7112.9     \n",
      "4FGL J1800.5-2910      5.200   1.649  6.47e-06   2.44      0.24       319.4     \n",
      "4FGL J1726.8-2659      5.268   0.004  1.67e-08   2.39     -0.00         0.7     \n",
      "4FGL J1811.3-2403      5.342   0.000   1.9e-09   2.47     -0.00         0.1     \n",
      "4FGL J1806.2-2126      5.351   4.387   7.3e-05   2.95      3.16      1363.5     \n",
      "4FGL J1736.3-2929      5.386   2.158  1.43e-05   2.55      1.45       725.9     \n",
      "4FGL J1809.2-2726      5.449   3.159  7.41e-06   2.46      0.23       319.2     \n",
      "4FGL J1811.9-2336      5.570   5.488   5.7e-05   3.67      0.56       730.3     \n",
      "4FGL J1733.2-2915      5.572   1.883  1.04e-05   2.50      0.56       447.9     \n",
      "4FGL J1758.0-2953      5.575   0.273  3.89e-07   2.59     -0.00         0.6     \n",
      "4FGL J1806.9-2824      5.579   0.001  3.47e-09   2.39     -0.00         0.1     \n",
      "4FGL J1740.1-1928      5.604   0.003  1.26e-08   2.64     -0.00         0.6     \n",
      "4FGL J1729.4-2831      5.610   2.857  1.29e-05   3.36      0.10       209.8     \n",
      "4FGL J1803.8-2908      5.610   0.007  1.41e-08   5.04     -0.00         0.2     \n",
      "4FGL J1750.4-3023      5.652   0.000   3.6e-10   2.93     -0.00         0.0     \n",
      "4FGL J1750.6-1906      5.693   0.000  1.86e-09   2.56     -0.00         0.1     \n",
      "4FGL J1734.0-2933      5.706   1.117  1.61e-05   2.59      0.02        88.3     \n",
      "4FGL J1745.8-3028e     5.725   1.183  0.000145   2.35     35.30      4202.6     \n",
      "4FGL J1800.2-2952      5.768   0.000   1.2e-11   3.61     -0.00         0.0     \n",
      "4FGL J1811.0-2725      5.800   0.001  4.13e-09   2.37     -0.00         0.1     \n",
      "4FGL J1739.4-3015      5.808   0.000  1.04e-09   3.94     -0.00         0.0     \n",
      "4FGL J1758.3-1920      5.930   3.639  2.56e-05   3.13      0.55       537.6     \n",
      "4FGL J1730.3-2913      5.960 383.194  0.000571   2.16      1.56       415.8     \n",
      "4FGL J1752.7-3040      5.994   0.000  1.03e-10   3.50     -0.00         0.0     \n",
      "4FGL J1814.6-2537      6.081   0.000  1.17e-09   3.49     -0.00         0.0     \n",
      "4FGL J1811.2-2759      6.105   0.002  2.72e-09   2.11     -0.00         0.0     \n",
      "4FGL J1758.3-3028      6.138   4.265  1.92e-05   2.34      0.42       439.6     \n",
      "4FGL J1743.1-3049c     6.159   0.577  7.15e-06   2.45      0.08       193.3     \n",
      "4FGL J1741.4-3046c     6.186   0.000  1.99e-09   3.05     -0.00         0.0     \n",
      "4FGL J1809.0-2853      6.234   0.000  4.89e-10   3.64     -0.00         0.0     \n",
      "4FGL J1735.7-3026      6.287  19.259  0.000272   2.35      0.12       161.7     \n",
      "4FGL J1726.0-2843      6.299   0.000   3.2e-10   2.00     -0.00         0.0     \n",
      "4FGL J1808.2-2028e     6.322   0.382   1.4e-05   3.63      0.04       168.1     \n",
      "4FGL J1750.8-3106      6.369   0.000  1.24e-11   2.77     -0.00         0.0     \n",
      "4FGL J1731.6-3002      6.406   0.000  2.58e-09   2.27     -0.00         0.0     \n",
      "4FGL J1743.9-1824      6.431  49.147  0.000141   4.20      0.92       548.7     \n",
      "4FGL J1740.3-3058c     6.431   0.477  1.72e-05   2.84      0.07       211.9     \n",
      "4FGL J1804.9-3001      6.453   0.000  3.73e-10   3.58     -0.00         0.0     \n",
      "4FGL J1726.2-2903      6.484   0.005  6.26e-09   2.65     -0.00         0.0     \n",
      "4FGL J1815.2-2715      6.591   0.000  1.89e-09   2.37     -0.00         0.0     \n",
      "4FGL J1743.4-3123      6.695   1.291  1.74e-05   2.35      0.19       292.7     \n",
      "4FGL J1741.5-3119      6.716   0.000  2.65e-11   2.32     -0.00         0.0     \n",
      "4FGL J1802.4-3041      6.727   0.000  2.88e-11   1.90     -0.00         0.0     \n",
      "4FGL J1808.8-1949c     6.890   0.000  6.31e-10   2.53     -0.00         0.0     \n",
      "4FGL J1816.4-2727      6.905   0.001  8.97e-09   3.06     -0.00         0.1     \n",
      "4FGL J1752.3-3139      6.944   2.718  1.38e-05   2.31      0.08       189.1     \n",
      "4FGL J1757.4-3125      6.958   0.001  9.33e-09   2.83     -0.00         0.1     \n",
      "4FGL J1749.6-3143c     6.962   0.000     2e-11   2.28     -0.00         0.0     \n",
      "4FGL J1723.1-2859      6.973   0.002  3.21e-09   2.62     -0.00         0.1     \n",
      "4FGL J1751.6-1750      6.983   0.000  2.84e-10   2.31     -0.00         0.0     \n",
      "4FGL J1745.6-3145      7.006   0.000  1.67e-09   2.61     -0.00         0.0     \n",
      "4FGL J1743.8-3143      7.016   2.372  2.64e-05   2.37      0.35       388.5     \n",
      "4FGL J1731.7-1850      7.048   1.214  2.45e-06   4.46      0.00        15.5     \n",
      "4FGL J1744.9-1727      7.357   0.001  1.09e-08   1.96     -0.00         0.0     \n",
      "4FGL J1754.8-3200      7.379   1.233  1.98e-06   2.37       nan         0.4     \n",
      "4FGL J1739.6-3155      7.385   2.710  2.72e-05   2.52      0.49       433.5     \n",
      "4FGL J1810.3-1925e     7.426   0.002  2.63e-08   2.71     -0.00         0.2     \n",
      "4FGL J1750.4-1721      7.431  10.936  6.02e-05   3.24      0.30       400.6     \n",
      "4FGL J1724.5-3008      7.484   0.000  2.02e-10   4.28     -0.00         0.0     \n",
      "4FGL J1725.1-1924      7.541   0.000  3.35e-09   2.38     -0.00         0.0     \n",
      "4FGL J1732.5-3131      7.559   1.934  0.000216   3.13      0.34       464.9     \n",
      "4FGL J1727.6-3050      7.567   0.000  2.06e-10   2.52     -0.00         0.0     \n",
      "4FGL J1816.3-2903      7.612   0.000  7.58e-10   4.46     -0.00         0.0     \n",
      "4FGL J1811.5-1925      7.621   0.002  1.69e-08   2.07     -0.00         0.1     \n",
      "4FGL J1716.7-2808      7.786   0.000  1.69e-10   2.69     -0.00         0.0     \n",
      "4FGL J1719.4-2916      7.801   0.001  2.11e-09   3.48     -0.00         0.0     \n",
      "4FGL J1814.2-3000      7.827   0.000  4.21e-11   2.87     -0.00         0.0     \n",
      "4FGL J1810.2-3054      7.845   0.000  2.77e-11   4.07     -0.00         0.0     \n",
      "4FGL J1804.9-1745      8.039   0.003  1.78e-08   2.70     -0.00         0.3     \n",
      "4FGL J1803.7-3207      8.114   0.000  1.68e-10   3.36     -0.00         0.0     \n",
      "4FGL J1811.5-1844      8.126   0.001  3.49e-09   3.51     -0.00         0.0     \n",
      "4FGL J1720.8-1937      8.131   0.002  3.71e-09   2.38     -0.00         0.0     \n",
      "4FGL J1818.1-2000      8.416   0.000  1.29e-10   2.43     -0.00         0.0     \n",
      "4FGL J1819.9-2926      8.489   0.000  2.95e-10   2.79     -0.00         0.0     \n",
      "4FGL J1817.2-3035      8.682   0.001  1.74e-09   2.26     -0.00         0.0     \n",
      "4FGL J1722.6-3135      8.818   1.962  1.97e-06   2.66       nan         0.2     \n",
      "4FGL J1812.8-3144      8.853   0.000   7.5e-11   2.50     -0.00         0.0     \n",
      "4FGL J1714.2-2928      8.868   2.868  4.32e-06   2.47      0.01        32.2     \n",
      "4FGL J1718.0-3055      9.042   5.048  3.11e-05   2.23      0.05       130.3     \n",
      "4FGL J1813.1-1737e     9.234   0.000  1.59e-08   2.56     -0.00         0.1     \n",
      "4FGL J1722.1-3205      9.275   0.352  1.51e-06   2.48     -0.00         9.6     \n",
      "4FGL J1814.1-1710      9.723   0.004  3.16e-08   2.51     -0.00         0.2     \n",
      "4FGL J1817.1-1742      9.790   0.000  4.97e-09   2.90     -0.00         0.0     \n",
      "isodiff                  ---   2.250     0.109   2.28   2620.65     55178.1     \n",
      "galdiff                  ---   0.961     0.259  -0.003426801.92   1319051.6     \n",
      "\n"
     ]
    }
   ],
   "source": [
    "gta.print_model()"
   ]
  },
  {
   "cell_type": "code",
   "execution_count": 35,
   "id": "f9d2e503-a390-4783-bf52-0fe1b431f891",
   "metadata": {},
   "outputs": [
    {
     "name": "stderr",
     "output_type": "stream",
     "text": [
      "2025-07-27 19:29:22 INFO    GTAnalysis.delete_source(): Deleting source 4FGL J1801.1-2626\n",
      "2025-07-27 19:29:22 INFO    GTAnalysis.delete_source(): Deleting source 4FGL J1746.4-2852\n"
     ]
    },
    {
     "name": "stdout",
     "output_type": "stream",
     "text": [
      "Deleting 4FGL J1801.1-2626 with TS=-1.780875027179718e-05\n",
      "Deleting 4FGL J1746.4-2852 with TS=-2.4577602744102478e-05\n",
      "Deleting 4FGL J1753.2-2848 with TS=-0.0005736909806728363\n"
     ]
    },
    {
     "name": "stderr",
     "output_type": "stream",
     "text": [
      "2025-07-27 19:29:22 INFO    GTAnalysis.delete_source(): Deleting source 4FGL J1753.2-2848\n",
      "2025-07-27 19:29:22 INFO    GTAnalysis.delete_source(): Deleting source 4FGL J1748.3-2906\n",
      "2025-07-27 19:29:23 INFO    GTAnalysis.delete_source(): Deleting source 4FGL J1801.0-2802\n",
      "2025-07-27 19:29:23 INFO    GTAnalysis.delete_source(): Deleting source 4FGL J1740.4-2850\n"
     ]
    },
    {
     "name": "stdout",
     "output_type": "stream",
     "text": [
      "Deleting 4FGL J1748.3-2906 with TS=-8.91461968421936e-06\n",
      "Deleting 4FGL J1801.0-2802 with TS=-7.505901157855988e-05\n",
      "Deleting 4FGL J1740.4-2850 with TS=-1.0542571544647217e-05\n"
     ]
    },
    {
     "name": "stderr",
     "output_type": "stream",
     "text": [
      "2025-07-27 19:29:23 INFO    GTAnalysis.delete_source(): Deleting source 4FGL J1746.5-2019\n",
      "2025-07-27 19:29:23 INFO    GTAnalysis.delete_source(): Deleting source 4FGL J1727.6-2304\n",
      "2025-07-27 19:29:23 INFO    GTAnalysis.delete_source(): Deleting source 4FGL J1754.6-2933\n"
     ]
    },
    {
     "name": "stdout",
     "output_type": "stream",
     "text": [
      "Deleting 4FGL J1746.5-2019 with TS=-3.1813979148864746e-06\n",
      "Deleting 4FGL J1727.6-2304 with TS=-6.386637687683105e-05\n",
      "Deleting 4FGL J1754.6-2933 with TS=-8.075684309005737e-05\n",
      "Deleting 4FGL J1739.5-2929 with TS=-6.671994924545288e-06\n"
     ]
    },
    {
     "name": "stderr",
     "output_type": "stream",
     "text": [
      "2025-07-27 19:29:23 INFO    GTAnalysis.delete_source(): Deleting source 4FGL J1739.5-2929\n",
      "2025-07-27 19:29:23 INFO    GTAnalysis.delete_source(): Deleting source 4FGL J1726.8-2659\n",
      "2025-07-27 19:29:23 INFO    GTAnalysis.delete_source(): Deleting source 4FGL J1811.3-2403\n",
      "2025-07-27 19:29:23 INFO    GTAnalysis.delete_source(): Deleting source 4FGL J1758.0-2953\n"
     ]
    },
    {
     "name": "stdout",
     "output_type": "stream",
     "text": [
      "Deleting 4FGL J1726.8-2659 with TS=-0.0009736493229866028\n",
      "Deleting 4FGL J1811.3-2403 with TS=-0.0005007125437259674\n",
      "Deleting 4FGL J1758.0-2953 with TS=-0.0013585686683654785\n"
     ]
    },
    {
     "name": "stderr",
     "output_type": "stream",
     "text": [
      "2025-07-27 19:29:23 INFO    GTAnalysis.delete_source(): Deleting source 4FGL J1806.9-2824\n",
      "2025-07-27 19:29:23 INFO    GTAnalysis.delete_source(): Deleting source 4FGL J1740.1-1928\n"
     ]
    },
    {
     "name": "stdout",
     "output_type": "stream",
     "text": [
      "Deleting 4FGL J1806.9-2824 with TS=-6.549805402755737e-05\n",
      "Deleting 4FGL J1740.1-1928 with TS=-0.00021866150200366974\n"
     ]
    },
    {
     "name": "stderr",
     "output_type": "stream",
     "text": [
      "2025-07-27 19:29:23 INFO    GTAnalysis.delete_source(): Deleting source 4FGL J1803.8-2908\n",
      "2025-07-27 19:29:24 INFO    GTAnalysis.delete_source(): Deleting source 4FGL J1750.4-3023\n",
      "2025-07-27 19:29:24 INFO    GTAnalysis.delete_source(): Deleting source 4FGL J1750.6-1906\n"
     ]
    },
    {
     "name": "stdout",
     "output_type": "stream",
     "text": [
      "Deleting 4FGL J1803.8-2908 with TS=-0.0008095074445009232\n",
      "Deleting 4FGL J1750.4-3023 with TS=-9.296461939811707e-06\n",
      "Deleting 4FGL J1750.6-1906 with TS=-0.00013142451643943787\n"
     ]
    },
    {
     "name": "stderr",
     "output_type": "stream",
     "text": [
      "2025-07-27 19:29:24 INFO    GTAnalysis.delete_source(): Deleting source 4FGL J1800.2-2952\n",
      "2025-07-27 19:29:24 INFO    GTAnalysis.delete_source(): Deleting source 4FGL J1811.0-2725\n",
      "2025-07-27 19:29:24 INFO    GTAnalysis.delete_source(): Deleting source 4FGL J1739.4-3015\n"
     ]
    },
    {
     "name": "stdout",
     "output_type": "stream",
     "text": [
      "Deleting 4FGL J1800.2-2952 with TS=-1.862645149230957e-07\n",
      "Deleting 4FGL J1811.0-2725 with TS=-0.00014433078467845917\n",
      "Deleting 4FGL J1739.4-3015 with TS=-3.3039599657058716e-05\n",
      "Deleting 4FGL J1752.7-3040 with TS=-1.6633421182632446e-06\n"
     ]
    },
    {
     "name": "stderr",
     "output_type": "stream",
     "text": [
      "2025-07-27 19:29:24 INFO    GTAnalysis.delete_source(): Deleting source 4FGL J1752.7-3040\n",
      "2025-07-27 19:29:24 INFO    GTAnalysis.delete_source(): Deleting source 4FGL J1814.6-2537\n",
      "2025-07-27 19:29:24 INFO    GTAnalysis.delete_source(): Deleting source 4FGL J1811.2-2759\n",
      "2025-07-27 19:29:24 INFO    GTAnalysis.delete_source(): Deleting source 4FGL J1741.4-3046c\n"
     ]
    },
    {
     "name": "stdout",
     "output_type": "stream",
     "text": [
      "Deleting 4FGL J1814.6-2537 with TS=-1.3334676623344421e-05\n",
      "Deleting 4FGL J1811.2-2759 with TS=-5.220063030719757e-05\n",
      "Deleting 4FGL J1741.4-3046c with TS=-3.314204514026642e-05\n"
     ]
    },
    {
     "name": "stderr",
     "output_type": "stream",
     "text": [
      "2025-07-27 19:29:24 INFO    GTAnalysis.delete_source(): Deleting source 4FGL J1809.0-2853\n",
      "2025-07-27 19:29:24 INFO    GTAnalysis.delete_source(): Deleting source 4FGL J1726.0-2843\n",
      "2025-07-27 19:29:24 INFO    GTAnalysis.delete_source(): Deleting source 4FGL J1750.8-3106\n",
      "2025-07-27 19:29:24 INFO    GTAnalysis.delete_source(): Deleting source 4FGL J1731.6-3002\n"
     ]
    },
    {
     "name": "stdout",
     "output_type": "stream",
     "text": [
      "Deleting 4FGL J1809.0-2853 with TS=-5.731359124183655e-06\n",
      "Deleting 4FGL J1726.0-2843 with TS=-8.959323167800903e-07\n",
      "Deleting 4FGL J1750.8-3106 with TS=-5.029141902923584e-08\n",
      "Deleting 4FGL J1731.6-3002 with TS=-2.5112181901931763e-05\n"
     ]
    },
    {
     "name": "stderr",
     "output_type": "stream",
     "text": [
      "2025-07-27 19:29:24 INFO    GTAnalysis.delete_source(): Deleting source 4FGL J1804.9-3001\n",
      "2025-07-27 19:29:25 INFO    GTAnalysis.delete_source(): Deleting source 4FGL J1726.2-2903\n",
      "2025-07-27 19:29:25 INFO    GTAnalysis.delete_source(): Deleting source 4FGL J1815.2-2715\n",
      "2025-07-27 19:29:25 INFO    GTAnalysis.delete_source(): Deleting source 4FGL J1741.5-3119\n"
     ]
    },
    {
     "name": "stdout",
     "output_type": "stream",
     "text": [
      "Deleting 4FGL J1804.9-3001 with TS=-4.930421710014343e-06\n",
      "Deleting 4FGL J1726.2-2903 with TS=-2.0410865545272827e-05\n",
      "Deleting 4FGL J1815.2-2715 with TS=-4.591234028339386e-05\n",
      "Deleting 4FGL J1741.5-3119 with TS=-4.0978193283081055e-08\n"
     ]
    },
    {
     "name": "stderr",
     "output_type": "stream",
     "text": [
      "2025-07-27 19:29:25 INFO    GTAnalysis.delete_source(): Deleting source 4FGL J1802.4-3041\n",
      "2025-07-27 19:29:25 INFO    GTAnalysis.delete_source(): Deleting source 4FGL J1808.8-1949c\n",
      "2025-07-27 19:29:25 INFO    GTAnalysis.delete_source(): Deleting source 4FGL J1816.4-2727\n"
     ]
    },
    {
     "name": "stdout",
     "output_type": "stream",
     "text": [
      "Deleting 4FGL J1802.4-3041 with TS=-7.636845111846924e-08\n",
      "Deleting 4FGL J1808.8-1949c with TS=-0.0001077800989151001\n",
      "Deleting 4FGL J1816.4-2727 with TS=-8.543580770492554e-05\n",
      "Deleting 4FGL J1757.4-3125 with TS=-5.217455327510834e-05\n"
     ]
    },
    {
     "name": "stderr",
     "output_type": "stream",
     "text": [
      "2025-07-27 19:29:25 INFO    GTAnalysis.delete_source(): Deleting source 4FGL J1757.4-3125\n",
      "2025-07-27 19:29:25 INFO    GTAnalysis.delete_source(): Deleting source 4FGL J1749.6-3143c\n",
      "2025-07-27 19:29:25 INFO    GTAnalysis.delete_source(): Deleting source 4FGL J1723.1-2859\n",
      "2025-07-27 19:29:25 INFO    GTAnalysis.delete_source(): Deleting source 4FGL J1751.6-1750\n",
      "2025-07-27 19:29:25 INFO    GTAnalysis.delete_source(): Deleting source 4FGL J1745.6-3145\n",
      "2025-07-27 19:29:25 INFO    GTAnalysis.delete_source(): Deleting source 4FGL J1744.9-1727\n"
     ]
    },
    {
     "name": "stdout",
     "output_type": "stream",
     "text": [
      "Deleting 4FGL J1749.6-3143c with TS=-4.470348358154297e-08\n",
      "Deleting 4FGL J1723.1-2859 with TS=-7.449276745319366e-05\n",
      "Deleting 4FGL J1751.6-1750 with TS=-5.200505256652832e-06\n",
      "Deleting 4FGL J1745.6-3145 with TS=-1.52587890625e-05\n",
      "Deleting 4FGL J1744.9-1727 with TS=-2.5482848286628723e-05\n"
     ]
    },
    {
     "name": "stderr",
     "output_type": "stream",
     "text": [
      "2025-07-27 19:29:25 INFO    GTAnalysis.delete_source(): Deleting source 4FGL J1754.8-3200\n",
      "2025-07-27 19:29:25 INFO    GTAnalysis.delete_source(): Deleting source 4FGL J1810.3-1925e\n",
      "2025-07-27 19:29:25 INFO    GTAnalysis.delete_source(): Deleting source 4FGL J1724.5-3008\n",
      "2025-07-27 19:29:25 INFO    GTAnalysis.delete_source(): Deleting source 4FGL J1725.1-1924\n",
      "2025-07-27 19:29:26 INFO    GTAnalysis.delete_source(): Deleting source 4FGL J1727.6-3050\n"
     ]
    },
    {
     "name": "stdout",
     "output_type": "stream",
     "text": [
      "Deleting 4FGL J1754.8-3200 with TS=nan\n",
      "Deleting 4FGL J1810.3-1925e with TS=-0.00010215863585472107\n",
      "Deleting 4FGL J1724.5-3008 with TS=-1.2200325727462769e-06\n",
      "Deleting 4FGL J1725.1-1924 with TS=-6.0673803091049194e-05\n",
      "Deleting 4FGL J1727.6-3050 with TS=-5.476176738739014e-07\n"
     ]
    },
    {
     "name": "stderr",
     "output_type": "stream",
     "text": [
      "2025-07-27 19:29:26 INFO    GTAnalysis.delete_source(): Deleting source 4FGL J1816.3-2903\n",
      "2025-07-27 19:29:26 INFO    GTAnalysis.delete_source(): Deleting source 4FGL J1811.5-1925\n",
      "2025-07-27 19:29:26 INFO    GTAnalysis.delete_source(): Deleting source 4FGL J1716.7-2808\n",
      "2025-07-27 19:29:26 INFO    GTAnalysis.delete_source(): Deleting source 4FGL J1719.4-2916\n",
      "2025-07-27 19:29:26 INFO    GTAnalysis.delete_source(): Deleting source 4FGL J1814.2-3000\n"
     ]
    },
    {
     "name": "stdout",
     "output_type": "stream",
     "text": [
      "Deleting 4FGL J1816.3-2903 with TS=-3.91155481338501e-06\n",
      "Deleting 4FGL J1811.5-1925 with TS=-0.00032992102205753326\n",
      "Deleting 4FGL J1716.7-2808 with TS=-8.139759302139282e-07\n",
      "Deleting 4FGL J1719.4-2916 with TS=-1.936778426170349e-05\n",
      "Deleting 4FGL J1814.2-3000 with TS=-9.313225746154785e-08\n"
     ]
    },
    {
     "name": "stderr",
     "output_type": "stream",
     "text": [
      "2025-07-27 19:29:26 INFO    GTAnalysis.delete_source(): Deleting source 4FGL J1810.2-3054\n",
      "2025-07-27 19:29:26 INFO    GTAnalysis.delete_source(): Deleting source 4FGL J1804.9-1745\n",
      "2025-07-27 19:29:26 INFO    GTAnalysis.delete_source(): Deleting source 4FGL J1803.7-3207\n",
      "2025-07-27 19:29:26 INFO    GTAnalysis.delete_source(): Deleting source 4FGL J1811.5-1844\n",
      "2025-07-27 19:29:26 INFO    GTAnalysis.delete_source(): Deleting source 4FGL J1720.8-1937\n"
     ]
    },
    {
     "name": "stdout",
     "output_type": "stream",
     "text": [
      "Deleting 4FGL J1810.2-3054 with TS=-1.0989606380462646e-07\n",
      "Deleting 4FGL J1804.9-1745 with TS=-0.0013753995299339294\n",
      "Deleting 4FGL J1803.7-3207 with TS=-9.052455425262451e-07\n",
      "Deleting 4FGL J1811.5-1844 with TS=-1.012161374092102e-05\n",
      "Deleting 4FGL J1720.8-1937 with TS=-5.2560120820999146e-05\n"
     ]
    },
    {
     "name": "stderr",
     "output_type": "stream",
     "text": [
      "2025-07-27 19:29:26 INFO    GTAnalysis.delete_source(): Deleting source 4FGL J1818.1-2000\n",
      "2025-07-27 19:29:26 INFO    GTAnalysis.delete_source(): Deleting source 4FGL J1819.9-2926\n",
      "2025-07-27 19:29:26 INFO    GTAnalysis.delete_source(): Deleting source 4FGL J1817.2-3035\n",
      "2025-07-27 19:29:26 INFO    GTAnalysis.delete_source(): Deleting source 4FGL J1722.6-3135\n"
     ]
    },
    {
     "name": "stdout",
     "output_type": "stream",
     "text": [
      "Deleting 4FGL J1818.1-2000 with TS=-4.1350722312927246e-07\n",
      "Deleting 4FGL J1819.9-2926 with TS=-1.2852251529693604e-06\n",
      "Deleting 4FGL J1817.2-3035 with TS=-8.177012205123901e-07\n",
      "Deleting 4FGL J1722.6-3135 with TS=nan\n",
      "Deleting 4FGL J1812.8-3144 with TS=-1.1175870895385742e-07\n"
     ]
    },
    {
     "name": "stderr",
     "output_type": "stream",
     "text": [
      "2025-07-27 19:29:26 INFO    GTAnalysis.delete_source(): Deleting source 4FGL J1812.8-3144\n",
      "2025-07-27 19:29:26 INFO    GTAnalysis.delete_source(): Deleting source 4FGL J1813.1-1737e\n",
      "2025-07-27 19:29:26 INFO    GTAnalysis.delete_source(): Deleting source 4FGL J1722.1-3205\n",
      "2025-07-27 19:29:26 INFO    GTAnalysis.delete_source(): Deleting source 4FGL J1814.1-1710\n",
      "2025-07-27 19:29:27 INFO    GTAnalysis.delete_source(): Deleting source 4FGL J1817.1-1742\n"
     ]
    },
    {
     "name": "stdout",
     "output_type": "stream",
     "text": [
      "Deleting 4FGL J1813.1-1737e with TS=-0.00016288645565509796\n",
      "Deleting 4FGL J1722.1-3205 with TS=-0.00036096014082431793\n",
      "Deleting 4FGL J1814.1-1710 with TS=-0.0008155237883329391\n",
      "Deleting 4FGL J1817.1-1742 with TS=-3.363750874996185e-05\n"
     ]
    }
   ],
   "source": [
    "for src in gta.get_sources():\n",
    "    ts = float(src['ts'])\n",
    "    if np.isnan(ts) or ts <= 0.0001:\n",
    "        print(f\"Deleting {src.name} with TS={ts}\")\n",
    "        gta.delete_source(src.name)"
   ]
  },
  {
   "cell_type": "code",
   "execution_count": 36,
   "id": "04610a3d-e2e5-4a2b-84e7-a91d9cb05bfe",
   "metadata": {},
   "outputs": [
    {
     "name": "stderr",
     "output_type": "stream",
     "text": [
      "2025-07-27 19:29:31 INFO    GTAnalysis.print_model(): \n",
      "sourcename            offset    norm  eflux     index        ts       npred free\n",
      "--------------------------------------------------------------------------------\n",
      "4FGL J1748.0-2446      0.000   0.647  4.84e-05   2.58   6673.52     24007.9     \n",
      "4FGL J1745.7-2506      0.617   0.727  4.97e-06   3.13     96.11      2805.5     \n",
      "4FGL J1746.1-2541      1.010   1.197  5.85e-06   2.60     44.03      4043.6     \n",
      "4FGL J1743.4-2406      1.242   0.237  5.29e-06   2.63     54.45      3600.8     \n",
      "4FGL J1749.0-2327      1.333   2.222  8.28e-06   3.62    138.60      5996.5     \n",
      "4FGL J1753.8-2538      1.567   2.523  3.95e-05   2.40   2062.88     17494.4     \n",
      "4FGL J1744.5-2612      1.641   0.968  6.42e-06   2.20     77.04      2596.3     \n",
      "4FGL J1741.8-2537      1.648   0.686  1.06e-05   2.24    241.65      4683.0     \n",
      "4FGL J1741.5-2344      1.804   1.147   2.6e-06   4.77     66.52      1360.5     \n",
      "4FGL J1739.3-2531      2.114   0.837   6.2e-06   3.05    197.33      2751.5     \n",
      "4FGL J1756.6-2352      2.153   0.829  1.01e-05   2.38     82.15      4690.0     \n",
      "4FGL J1738.1-2453      2.250   2.530  5.54e-06   5.40    184.64      2543.0     \n",
      "4FGL J1742.8-2246      2.324   1.344  6.05e-06   3.08    170.78      3030.8     \n",
      "4FGL J1757.7-2337      2.487   0.608  1.25e-05   2.30    111.71      4567.2     \n",
      "4FGL J1737.2-2421      2.498   0.493  4.56e-06   2.20     46.35      1195.8     \n",
      "4FGL J1758.6-2404      2.509   1.975  2.62e-05   2.38    316.33      9408.1     \n",
      "4FGL J1740.7-2640      2.521   0.407  5.54e-06   2.68    160.43      2043.5     \n",
      "4FGL J1737.6-2350      2.539   1.628  4.21e-06   2.38     41.64      1554.9     \n",
      "4FGL J1759.1-2347c     2.700   1.783  1.03e-05   2.31     24.87      2935.8     \n",
      "4FGL J1758.8-2326      2.794   2.101  1.09e-05   2.52     94.95      3028.6     \n",
      "4FGL J1759.7-2354      2.805   0.619  5.55e-05   1.78     51.55      3511.4     \n",
      "4FGL J1800.2-2403c     2.859   0.619  8.73e-06   2.11      2.56      1218.5     \n",
      "4FGL J1744.9-2153      2.968   2.663  5.39e-06   2.47      6.93      1335.5     \n",
      "4FGL J1801.2-2450      2.997   4.629  4.38e-05   2.67     76.00      6923.7     \n",
      "4FGL J1800.9-2407      2.997   0.468  2.19e-05   4.32     38.21      4207.2     \n",
      "4FGL J1800.7-2355      3.003   0.193  1.03e-05   2.18      3.70      1507.4     \n",
      "4FGL J1747.7-2141      3.083   1.359  1.58e-05   2.47     34.91      3345.7     \n",
      "4FGL J1741.6-2730      3.095   0.345  2.69e-06   3.46      2.00       620.1     \n",
      "4FGL J1739.2-2717      3.206   0.199  3.27e-06   2.91     10.79       856.9     \n",
      "4FGL J1801.8-2358      3.227   0.256  5.96e-06   2.26      1.13       839.2     \n",
      "4FGL J1733.6-2431      3.278   1.216  5.74e-06   3.26      1.71       603.0     \n",
      "4FGL J1801.3-2326e     3.311   2.702  0.000398   1.85    591.69     17406.0     \n",
      "4FGL J1801.6-2326      3.384   0.728  6.21e-05   4.78    231.23     10638.5     \n",
      "4FGL J1757.6-2731      3.489   0.134  1.04e-06   2.80      0.15       109.2     \n",
      "4FGL J1732.7-2559      3.664   1.007  7.54e-06   3.03      1.93       797.7     \n",
      "4FGL J1802.1-2652      3.805   0.474  4.08e-06   3.15      0.37       283.0     \n",
      "4FGL J1742.5-2833      3.984   1.387  1.44e-05   2.57      7.77      1843.2     \n",
      "4FGL J1733.9-2220      4.046   0.467  7.39e-07   4.71      0.04        81.9     \n",
      "4FGL J1759.7-2141      4.077   1.502  2.15e-05   2.52      6.09      1430.2     \n",
      "4FGL J1741.9-2054      4.119   0.123  0.000188   2.57    100.15      4799.3     \n",
      "4FGL J1729.9-2403      4.178   3.102  7.25e-06   3.91      0.39       342.9     \n",
      "4FGL J1732.0-2659      4.241   0.162  8.86e-07   2.34      0.01        73.4     \n",
      "4FGL J1739.7-2836      4.259  14.161  2.01e-05   2.40      0.18       129.5     \n",
      "4FGL J1745.6-2859      4.260   0.550  0.000122   2.93    194.76     10559.1     \n",
      "4FGL J1806.9-2455c     4.283  11.356  5.73e-05   3.45      1.82      1123.7     \n",
      "4FGL J1803.1-2724      4.290   7.857  1.33e-05   2.83      1.61       787.6     \n",
      "4FGL J1730.8-2303      4.300   0.143  3.56e-07   5.14      0.00        19.3     \n",
      "4FGL J1748.9-2021      4.420   2.663  2.82e-05   2.83      3.53      1257.0     \n",
      "4FGL J1731.9-2719      4.437   0.498  5.69e-06   2.24      0.34       337.1     \n",
      "4FGL J1757.1-2848c     4.514   2.671  1.01e-05   2.49      1.53       839.0     \n",
      "4FGL J1803.1-2148      4.553   0.849  6.91e-05   2.71     16.17      2810.8     \n",
      "4FGL J1752.3-2914      4.576   4.757  2.58e-05   2.64     11.30      2316.9     \n",
      "4FGL J1734.5-2818      4.642   8.455  2.32e-05   3.66      2.41       823.0     \n",
      "4FGL J1804.7-2144e     4.890   0.275  5.97e-05   1.98      2.42      1092.1     \n",
      "4FGL J1748.2-1942      5.065   1.767  9.45e-06   2.40      0.53       437.6     \n",
      "4FGL J1809.8-2332      5.116   1.934  0.000528   2.56     58.67      7029.0     \n",
      "4FGL J1805.6-2136e     5.124   1.755  4.32e-05   2.21      4.53      1435.2     \n",
      "4FGL J1747.2-2957      5.196   0.763  0.000231   3.43     75.88      7112.9     \n",
      "4FGL J1800.5-2910      5.200   1.649  6.47e-06   2.44      0.24       319.4     \n",
      "4FGL J1806.2-2126      5.351   4.387   7.3e-05   2.95      3.16      1363.5     \n",
      "4FGL J1736.3-2929      5.386   2.158  1.43e-05   2.55      1.45       725.9     \n",
      "4FGL J1809.2-2726      5.449   3.159  7.41e-06   2.46      0.23       319.2     \n",
      "4FGL J1811.9-2336      5.570   5.488   5.7e-05   3.67      0.56       730.3     \n",
      "4FGL J1733.2-2915      5.572   1.883  1.04e-05   2.50      0.56       447.9     \n",
      "4FGL J1729.4-2831      5.610   2.857  1.29e-05   3.36      0.10       209.8     \n",
      "4FGL J1734.0-2933      5.706   1.117  1.61e-05   2.59      0.02        88.3     \n",
      "4FGL J1745.8-3028e     5.725   1.183  0.000145   2.35     35.30      4202.6     \n",
      "4FGL J1758.3-1920      5.930   3.639  2.56e-05   3.13      0.55       537.6     \n",
      "4FGL J1730.3-2913      5.960 383.194  0.000571   2.16      1.56       415.8     \n",
      "4FGL J1758.3-3028      6.138   4.265  1.92e-05   2.34      0.42       439.6     \n",
      "4FGL J1743.1-3049c     6.159   0.577  7.15e-06   2.45      0.08       193.3     \n",
      "4FGL J1735.7-3026      6.287  19.259  0.000272   2.35      0.12       161.7     \n",
      "4FGL J1808.2-2028e     6.322   0.382   1.4e-05   3.63      0.04       168.1     \n",
      "4FGL J1743.9-1824      6.431  49.147  0.000141   4.20      0.92       548.7     \n",
      "4FGL J1740.3-3058c     6.431   0.477  1.72e-05   2.84      0.07       211.9     \n",
      "4FGL J1743.4-3123      6.695   1.291  1.74e-05   2.35      0.19       292.7     \n",
      "4FGL J1752.3-3139      6.944   2.718  1.38e-05   2.31      0.08       189.1     \n",
      "4FGL J1743.8-3143      7.016   2.372  2.64e-05   2.37      0.35       388.5     \n",
      "4FGL J1731.7-1850      7.048   1.214  2.45e-06   4.46      0.00        15.5     \n",
      "4FGL J1739.6-3155      7.385   2.710  2.72e-05   2.52      0.49       433.5     \n",
      "4FGL J1750.4-1721      7.431  10.936  6.02e-05   3.24      0.30       400.6     \n",
      "4FGL J1732.5-3131      7.559   1.934  0.000216   3.13      0.34       464.9     \n",
      "4FGL J1714.2-2928      8.868   2.868  4.32e-06   2.47      0.01        32.2     \n",
      "4FGL J1718.0-3055      9.042   5.048  3.11e-05   2.23      0.05       130.3     \n",
      "isodiff                  ---   2.250     0.109   2.28   2620.65     55178.1     \n",
      "galdiff                  ---   0.961     0.259  -0.003426801.92   1319051.6     \n",
      "\n"
     ]
    }
   ],
   "source": [
    "gta.print_model()"
   ]
  },
  {
   "cell_type": "code",
   "execution_count": 37,
   "id": "5ef46213-a342-46d7-97c9-9155b7194345",
   "metadata": {},
   "outputs": [
    {
     "name": "stderr",
     "output_type": "stream",
     "text": [
      "2025-07-27 19:29:34 INFO    GTAnalysis.free_source(): Freeing parameters for 4FGL J1748.0-2446     : ['norm']\n",
      "2025-07-27 19:29:34 INFO    GTAnalysis.free_source(): Freeing parameters for 4FGL J1745.7-2506     : ['norm']\n",
      "2025-07-27 19:29:34 INFO    GTAnalysis.free_source(): Freeing parameters for isodiff               : ['Normalization']\n",
      "2025-07-27 19:29:34 INFO    GTAnalysis.free_source(): Freeing parameters for galdiff               : ['Prefactor']\n",
      "2025-07-27 19:29:34 INFO    GTAnalysis.free_source(): Freeing parameters for 4FGL J1748.0-2446     : ['alpha', 'beta']\n",
      "2025-07-27 19:29:34 INFO    GTAnalysis.free_source(): Freeing parameters for 4FGL J1745.7-2506     : ['alpha', 'beta']\n",
      "2025-07-27 19:29:34 INFO    GTAnalysis.free_source(): Freeing parameters for galdiff               : ['Index']\n",
      "2025-07-27 19:29:34 INFO    GTAnalysis.fit(): Starting fit.\n",
      "2025-07-27 19:29:41 INFO    GTAnalysis.fit(): Fit returned successfully. Quality:   3 Status:   0\n",
      "2025-07-27 19:29:41 INFO    GTAnalysis.fit(): LogLike:  4871392.284 DeltaLogLike:        1.942 \n"
     ]
    },
    {
     "data": {
      "text/plain": [
       "{'fit_quality': 3,\n",
       " 'fit_status': 0,\n",
       " 'fit_success': True,\n",
       " 'dloglike': 1.9424058515578508,\n",
       " 'edm': 0.0005616069867473169,\n",
       " 'loglike': 4871392.284209884,\n",
       " 'covariance': array([[ 1.08673040e-02,  4.87034550e-03,  7.24297751e-03,\n",
       "         -3.22744113e-04, -1.70267253e-04, -1.36363078e-04,\n",
       "         -8.00054791e-06,  1.11446500e-05, -3.71717668e-04],\n",
       "        [ 4.87034550e-03,  8.28881829e-02, -4.29703555e-02,\n",
       "         -6.10806631e-04, -2.61766091e-03,  8.65465167e-04,\n",
       "         -3.39307404e-05,  2.44675920e-05,  1.14901219e-03],\n",
       "        [ 7.24297751e-03, -4.29703555e-02,  6.73476309e-02,\n",
       "          2.08708303e-04,  1.87133721e-03, -9.13857197e-04,\n",
       "          2.24542016e-05, -1.97562584e-05, -6.56966855e-04],\n",
       "        [-3.22744113e-04, -6.10806631e-04,  2.08708303e-04,\n",
       "          1.80740135e-04, -1.71442567e-05,  1.30075200e-04,\n",
       "         -2.55823380e-06,  2.22778024e-06,  8.06233693e-05],\n",
       "        [-1.70267253e-04, -2.61766091e-03,  1.87133721e-03,\n",
       "         -1.71442567e-05,  5.53729261e-04, -1.28049252e-04,\n",
       "         -6.38551261e-07, -5.81954905e-06, -2.82869261e-04],\n",
       "        [-1.36363078e-04,  8.65465167e-04, -9.13857197e-04,\n",
       "          1.30075200e-04, -1.28049252e-04,  3.40132104e-04,\n",
       "         -1.93981342e-06,  4.63817141e-06,  3.80451941e-04],\n",
       "        [-8.00054791e-06, -3.39307404e-05,  2.24542016e-05,\n",
       "         -2.55823380e-06, -6.38551261e-07, -1.93981342e-06,\n",
       "          3.01198409e-06,  1.49921655e-07, -1.29354800e-04],\n",
       "        [ 1.11446500e-05,  2.44675920e-05, -1.97562584e-05,\n",
       "          2.22778024e-06, -5.81954905e-06,  4.63817141e-06,\n",
       "          1.49921655e-07,  1.74466908e-06, -7.95690915e-05],\n",
       "        [-3.71717668e-04,  1.14901219e-03, -6.56966855e-04,\n",
       "          8.06233693e-05, -2.82869261e-04,  3.80451941e-04,\n",
       "         -1.29354800e-04, -7.95690915e-05,  1.19133422e-02]]),\n",
       " 'correlation': array([[ 1.        ,  0.16227535,  0.26772879, -0.23028737, -0.06940991,\n",
       "         -0.07092708, -0.0442214 ,  0.08093735, -0.03266897],\n",
       "        [ 0.16227535,  1.        , -0.57512398, -0.15780841, -0.38638329,\n",
       "          0.16299695, -0.06790796,  0.06434109,  0.03656466],\n",
       "        [ 0.26772879, -0.57512398,  1.        ,  0.05982067,  0.30643767,\n",
       "         -0.19093844,  0.04985516, -0.05763509, -0.02319346],\n",
       "        [-0.23028737, -0.15780841,  0.05982067,  1.        , -0.05419293,\n",
       "          0.52461824, -0.10964444,  0.12545516,  0.05494356],\n",
       "        [-0.06940991, -0.38638329,  0.30643767, -0.05419293,  1.        ,\n",
       "         -0.29505603, -0.01563582, -0.18723372, -0.1101337 ],\n",
       "        [-0.07092708,  0.16299695, -0.19093844,  0.52461824, -0.29505603,\n",
       "          1.        , -0.06060519,  0.19039978,  0.18899886],\n",
       "        [-0.0442214 , -0.06790796,  0.04985516, -0.10964444, -0.01563582,\n",
       "         -0.06060519,  1.        ,  0.06540056, -0.68287216],\n",
       "        [ 0.08093735,  0.06434109, -0.05763509,  0.12545516, -0.18723372,\n",
       "          0.19039978,  0.06540056,  1.        , -0.55191355],\n",
       "        [-0.03266897,  0.03656466, -0.02319346,  0.05494356, -0.1101337 ,\n",
       "          0.18899886, -0.68287216, -0.55191355,  1.        ]]),\n",
       " 'values': array([ 7.60008323e-01,  2.09500501e+00,  8.06190195e-01,  6.48994767e-01,\n",
       "         2.18205400e+00,  2.80798772e-01,  9.59359600e-01, -1.01460953e-03,\n",
       "         2.32804945e+00]),\n",
       " 'errors': array([0.10424636, 0.28790308, 0.25951422, 0.01344396, 0.02353145,\n",
       "        0.01844267, 0.00173551, 0.00132086, 0.10914826]),\n",
       " 'indices': array([150, 151, 152, 168, 169, 170, 307, 308, 310]),\n",
       " 'is_norm': array([ True, False, False,  True, False, False,  True, False,  True]),\n",
       " 'src_names': ['4FGL J1745.7-2506',\n",
       "  '4FGL J1745.7-2506',\n",
       "  '4FGL J1745.7-2506',\n",
       "  '4FGL J1748.0-2446',\n",
       "  '4FGL J1748.0-2446',\n",
       "  '4FGL J1748.0-2446',\n",
       "  'galdiff',\n",
       "  'galdiff',\n",
       "  'isodiff'],\n",
       " 'par_names': ['norm',\n",
       "  'alpha',\n",
       "  'beta',\n",
       "  'norm',\n",
       "  'alpha',\n",
       "  'beta',\n",
       "  'Prefactor',\n",
       "  'Index',\n",
       "  'Normalization'],\n",
       " 'config': {'optimizer': 'NEWMINUIT',\n",
       "  'tol': 0.001,\n",
       "  'max_iter': 100,\n",
       "  'init_lambda': 0.0001,\n",
       "  'retries': 3,\n",
       "  'min_fit_quality': 2,\n",
       "  'verbosity': 0,\n",
       "  'covar': True,\n",
       "  'reoptimize': False},\n",
       " 'niter': 1}"
      ]
     },
     "execution_count": 37,
     "metadata": {},
     "output_type": "execute_result"
    }
   ],
   "source": [
    "gta.free_sources(free=False)\n",
    "gta.free_sources(distance=1.0,pars='norm')\n",
    "gta.free_sources(distance=1.0,pars='shape')\n",
    "gta.fit(optimizer='NEWMINUIT')"
   ]
  },
  {
   "cell_type": "code",
   "execution_count": 38,
   "id": "32d0cb1b-46f6-4250-8ea6-984d7ca2e864",
   "metadata": {},
   "outputs": [
    {
     "name": "stderr",
     "output_type": "stream",
     "text": [
      "2025-07-27 19:29:51 INFO    GTBinnedAnalysis.write_xml(): Writing /Users/maomao/sfsu_research/terzan5/all_energies/tight_fit_00.xml...\n",
      "2025-07-27 19:29:51 INFO    GTAnalysis.write_fits(): Writing /Users/maomao/sfsu_research/terzan5/all_energies/tight_fit.fits...\n",
      "WARNING: Format %s cannot be mapped to the accepted TDISPn keyword values.  Format will not be moved into TDISPn keyword. [astropy.io.fits.column]\n",
      "WARNING: Format %f cannot be mapped to the accepted TDISPn keyword values.  Format will not be moved into TDISPn keyword. [astropy.io.fits.column]\n",
      "WARNING: Format %s cannot be mapped to the accepted TDISPn keyword values.  Format will not be moved into TDISPn keyword. [astropy.io.fits.column]\n",
      "2025-07-27 19:29:58 INFO    GTAnalysis.write_roi(): Writing /Users/maomao/sfsu_research/terzan5/all_energies/tight_fit.npy...\n"
     ]
    }
   ],
   "source": [
    "gta.write_roi('tight_fit')"
   ]
  },
  {
   "cell_type": "code",
   "execution_count": 41,
   "id": "9dfc325c-afb6-49e3-bb5c-25c0dc9b6d30",
   "metadata": {},
   "outputs": [
    {
     "name": "stderr",
     "output_type": "stream",
     "text": [
      "2025-07-27 19:31:51 INFO    GTAnalysis.sed(): Computing SED for 4FGL J1748.0-2446\n",
      "2025-07-27 19:31:54 INFO    GTAnalysis._make_sed(): Fitting SED\n",
      "2025-07-27 19:31:54 INFO    GTAnalysis.free_source(): Fixing parameters for 4FGL J1748.0-2446     : ['alpha', 'beta']\n",
      "2025-07-27 19:31:54 INFO    GTAnalysis.free_source(): Fixing parameters for 4FGL J1745.7-2506     : ['alpha', 'beta']\n",
      "2025-07-27 19:31:54 INFO    GTAnalysis.free_source(): Fixing parameters for galdiff               : ['Index']\n",
      "/opt/anaconda3/envs/fermipy/lib/python3.9/site-packages/fermipy/utils.py:785: UserWarning: \n",
      "The maximal number of iterations maxit (set to 20 by the program)\n",
      "allowed for finding a smoothing spline with fp=s has been reached: s\n",
      "too small.\n",
      "There is an approximation returned but the corresponding weighted sum\n",
      "of squared residuals does not satisfy the condition abs(fp-s)/s < tol.\n",
      "  spline = UnivariateSpline(x, y, k=2,\n",
      "2025-07-27 19:32:41 INFO    GTAnalysis.sed(): Finished SED\n",
      "2025-07-27 19:32:47 INFO    GTAnalysis.sed(): Execution time: 55.33 s\n"
     ]
    }
   ],
   "source": [
    "# Wider bins at higher energy levels\n",
    "binedges = np.array([\n",
    "    1e2, 2e2, 4e2, 8e2,\n",
    "    1.5e3, 3e3, 6e3,\n",
    "    1.2e4, 2.5e4, 5e4,\n",
    "    1e5, 3e5, 1e6  \n",
    "])\n",
    "\n",
    "loge_bins = np.log10(binedges)\n",
    "\n",
    "sed_combined = gta.sed(\n",
    "    '4FGL J1748.0-2446',\n",
    "    loge_bins=loge_bins,\n",
    "    outfile='sed_combined_highE.fits',\n",
    "    write_npy=True,\n",
    "    write_fits=True,\n",
    "    make_plots=True\n",
    ")"
   ]
  },
  {
   "cell_type": "code",
   "execution_count": 43,
   "id": "95915015-110b-43d3-a4c3-6252db5772d8",
   "metadata": {},
   "outputs": [
    {
     "data": {
      "text/plain": [
       "<Figure size 640x480 with 0 Axes>"
      ]
     },
     "metadata": {},
     "output_type": "display_data"
    },
    {
     "data": {
      "text/plain": [
       "<Figure size 1400x400 with 0 Axes>"
      ]
     },
     "metadata": {},
     "output_type": "display_data"
    },
    {
     "data": {
      "text/plain": [
       "<Figure size 1400x400 with 0 Axes>"
      ]
     },
     "metadata": {},
     "output_type": "display_data"
    },
    {
     "data": {
      "image/png": "[encoded data removed]",
      "text/plain": [
       "<Figure size 1400x400 with 1 Axes>"
      ]
     },
     "metadata": {},
     "output_type": "display_data"
    }
   ],
   "source": [
    "plt.clf()\n",
    "fig = plt.figure(figsize=(14,4))\n",
    "fig.add_subplot(121)\n",
    "SEDPlotter(sed_combined).plot()\n",
    "plt.xlim(1e2, 1e7)\n",
    "plt.ylim(1e-9, 2e-5)\n",
    "plt.show()"
   ]
  },
  {
   "cell_type": "code",
   "execution_count": 29,
   "id": "60085bf1-c6b5-4d69-89cc-2d308fd170fc",
   "metadata": {},
   "outputs": [
    {
     "data": {
      "text/plain": [
       "(1e-09, 2e-05)"
      ]
     },
     "execution_count": 29,
     "metadata": {},
     "output_type": "execute_result"
    },
    {
     "data": {
      "text/plain": [
       "<Figure size 640x480 with 0 Axes>"
      ]
     },
     "metadata": {},
     "output_type": "display_data"
    },
    {
     "data": {
      "image/png": "[encoded data removed]",
      "text/plain": [
       "<Figure size 1400x400 with 1 Axes>"
      ]
     },
     "metadata": {},
     "output_type": "display_data"
    }
   ],
   "source": [
    "plt.clf()\n",
    "fig = plt.figure(figsize=(14,4))\n",
    "fig.add_subplot(121)\n",
    "SEDPlotter(sed_combined).plot()\n",
    "plt.xlim(1e2, 1e7)\n",
    "plt.ylim(1e-9, 2e-5)"
   ]
  },
  {
   "cell_type": "code",
   "execution_count": null,
   "id": "b2836b41-e744-4e00-91b7-794ddce87f0b",
   "metadata": {},
   "outputs": [],
   "source": []
  }
 ],
 "metadata": {
  "kernelspec": {
   "display_name": "Python 3 (ipykernel)",
   "language": "python",
   "name": "python3"
  },
  "language_info": {
   "codemirror_mode": {
    "name": "ipython",
    "version": 3
   },
   "file_extension": ".py",
   "mimetype": "text/x-python",
   "name": "python",
   "nbconvert_exporter": "python",
   "pygments_lexer": "ipython3",
   "version": "3.9.22"
  }
 },
 "nbformat": 4,
 "nbformat_minor": 5
}
